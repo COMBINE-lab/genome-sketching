{
 "cells": [
  {
   "cell_type": "markdown",
   "metadata": {},
   "source": [
    "# Background"
   ]
  },
  {
   "cell_type": "markdown",
   "metadata": {},
   "source": [
    "Before starting with data sketching algorithms for genomics, I wanted to give a quick primer on some basic concepts that will be used frequently later. This will also save us from repeating a lot of code in the other notebooks!\n",
    "\n",
    "This notebook will cover:\n",
    "\n",
    "* k-mers\n",
    " - what are they\n",
    " - how to generate them from a sequence\n",
    " - canonical k-mers\n",
    "\n",
    "* genomic data streams\n",
    " \n",
    "* more coming...\n",
    "\n",
    "Alternatively, skip straight to another notebook:\n",
    "\n",
    "* Sketching algorithms\n",
    "    -   [3.1 Set similarity with MinHash](../notebooks/r3.1.Set-similarity-with-MinHash.ipynb)\n",
    "    -   [3.2 Set membership with Bloom filter](../notebooks/r3.2.Set-membership-with-Bloom-filters.ipynb)\n",
    "    -   [3.3 Element frequency with Count-Min sketch](../notebooks/r3.3.Element-frequency-with-Count-Min-sketch.ipynb)\n",
    "    -   [3.4 Set cardinality with HyperLogLog](../notebooks/r3.4.Set-cardinality-with-HyperLogLog.ipynb)\n",
    "* Workflows for genomics\n",
    "    -   [4.1 Overview](../notebooks/r4.1.Workflows-for-genomics.ipynb)\n",
    "    -   [4.2 Sample QC](r4.2.Sample-QC.ipynb)\n",
    "    -   [4.3 Resistome profiling](r4.3.Resistome-profiling.ipynb)\n",
    "    -   [4.4 Outbreak surveillance](r4.4.Outbreak-surveillance.ipynb)\n",
    "    -   [4.5 Data mining](r4.5.Data-mining.ipynb)\n",
    "    \n",
    "***"
   ]
  },
  {
   "cell_type": "markdown",
   "metadata": {},
   "source": [
    "## K-mers\n",
    "\n",
    "### The basics\n",
    "\n",
    "From [Wikipedia](https://en.wikipedia.org/wiki/K-mer):\n",
    "\n",
    "> k-mers refer to all the possible subsequences (of length k) from a read obtained through DNA Sequencing\n",
    "\n",
    "So, given a sequence that is 10 nucleotides long:\n",
    "\n",
    "```\n",
    "ACTGACTGAC\n",
    "```\n",
    "\n",
    "We can *decompose* it to the constituent k-mers. Here, we will use k=7:\n",
    "\n",
    "```\n",
    "ACTGACT\n",
    " CTGACTG\n",
    "  TGACTGA\n",
    "   GACTGAC\n",
    "```\n",
    "\n",
    "You'll notice that for any sequence, the number of k-mers you can get is equal to the sequence length (L) minus the k-mer size, plus 1:\n",
    "\n",
    "```\n",
    "number of k-mers = L - k + 1\n",
    "```\n",
    "\n",
    "So, for our sequence that is 10 nucleotides long, we got 4 k-mers that were 7 nucleotides long:\n",
    "\n",
    "```\n",
    "4 = 10 - 7 + 1\n",
    "```\n",
    "\n",
    "But why use k-mers at all?\n",
    "\n",
    "> We use k-mers a lot in bioinformatics because they are an exact length, as opposed to reads or genomes which are typically variable in length. Computers prefer things to be exact lengths; making processing quicker for fixed lengths compared to variable lengths.\n",
    "\n",
    "Now let's use some Python to decompose sequences to k-mers...\n",
    "\n",
    "***\n",
    "\n",
    "* Start with defining a sequence:"
   ]
  },
  {
   "cell_type": "code",
   "execution_count": null,
   "metadata": {},
   "outputs": [],
   "source": [
    "sequence = \"ACTGACTGAC\""
   ]
  },
  {
   "cell_type": "markdown",
   "metadata": {},
   "source": [
    "* To decompose this sequence into the constituent k-mers of length 7, start with calculating the number of k-mers we can get:"
   ]
  },
  {
   "cell_type": "code",
   "execution_count": null,
   "metadata": {},
   "outputs": [],
   "source": [
    "sequenceLength = len(sequence)\n",
    "kmerSize = 7\n",
    "numberKmers = sequenceLength - kmerSize + 1\n",
    "print(\"Number of {}-mers possible from {}\\t=\\t{}\\n\" .format(kmerSize, sequence, numberKmers))"
   ]
  },
  {
   "cell_type": "markdown",
   "metadata": {},
   "source": [
    "* By sliding a window that is 7 nucleotides long across the sequence one nucleotide at a time, we can determine each k-mer:\n",
    "\n",
    "> We use the number of possible k-mers from the last step so that we know when to stop sliding the window."
   ]
  },
  {
   "cell_type": "code",
   "execution_count": null,
   "metadata": {},
   "outputs": [],
   "source": [
    "for i in range(numberKmers):\n",
    "    print(sequence[i:i+kmerSize])"
   ]
  },
  {
   "cell_type": "markdown",
   "metadata": {},
   "source": [
    "* Let's now combine the last few bits of code into a function that we can re-use:"
   ]
  },
  {
   "cell_type": "code",
   "execution_count": null,
   "metadata": {},
   "outputs": [],
   "source": [
    "\"\"\"\n",
    "getKmers\n",
    "- takes a sequence and a k-mer size\n",
    "- decomposes the sequence to k-mers\n",
    "- returns a list of k-mers\n",
    "\"\"\"\n",
    "def getKmers(seq, k):\n",
    "    # a list to store the k-mers\n",
    "    kmers = []\n",
    "    \n",
    "    # calculate the number of possible k-mers\n",
    "    numKmers = len(seq) - k + 1\n",
    "    \n",
    "    # slide a window along the sequence and store the k-mer\n",
    "    for i in range(numKmers):\n",
    "        kmer = seq[i:i + k]\n",
    "        kmers.append(kmer)\n",
    "    return kmers"
   ]
  },
  {
   "cell_type": "markdown",
   "metadata": {},
   "source": [
    "* Test the function out:"
   ]
  },
  {
   "cell_type": "code",
   "execution_count": null,
   "metadata": {},
   "outputs": [],
   "source": [
    "print(getKmers(sequence, 5))\n",
    "print(getKmers(sequence, 6))\n",
    "print(getKmers(sequence, 7))"
   ]
  },
  {
   "cell_type": "markdown",
   "metadata": {},
   "source": [
    "### Canonical k-mers\n",
    "\n",
    "As DNA is usually double stranded, we need to take into account the **reverse complement** of each k-mer that we observe as we may have sequenced either strand and we want to consider both.\n",
    "\n",
    "> An observation of a k-mer (say ACTG), means that its reverse complement (CAGT) also exists in the genome we have sequenced, as it is just the same bit of genome read but has been read in the opposite direction.\n",
    "\n",
    "To make sure that we are considering both k-mers, we use something called the **canonical k-mer**, which is the lexicographically smaller of the k-mer and its reverse complement. This just means the k-mer which comes first when sorted alphabetically.\n",
    "\n",
    "To get the reverse complement, we will make our lives easier and use the excellent [screed](https://github.com/dib-lab/screed/) library. This library contains many great utilies for working with short read data. We'll be using this library for some other stuff later too."
   ]
  },
  {
   "cell_type": "markdown",
   "metadata": {},
   "source": [
    "* Reverse complement a k-mer:"
   ]
  },
  {
   "cell_type": "code",
   "execution_count": null,
   "metadata": {},
   "outputs": [],
   "source": [
    "import screed\n",
    "\n",
    "kmer = \"TACTGACTG\"\n",
    "rcKmer = screed.rc(kmer)\n",
    "print(kmer)\n",
    "print(rcKmer)"
   ]
  },
  {
   "cell_type": "markdown",
   "metadata": {},
   "source": [
    "* The lexicgraphically smaller of the two is the canonical k-mer:"
   ]
  },
  {
   "cell_type": "code",
   "execution_count": null,
   "metadata": {},
   "outputs": [],
   "source": [
    "canonical=\"\"\n",
    "if kmer <= rcKmer:\n",
    "    canonical = kmer\n",
    "else:\n",
    "    canonical = rcKmer\n",
    "print(canonical)"
   ]
  },
  {
   "cell_type": "markdown",
   "metadata": {},
   "source": [
    "* Let's update our getKmers function to take into account canonical k-mers:"
   ]
  },
  {
   "cell_type": "code",
   "execution_count": null,
   "metadata": {},
   "outputs": [],
   "source": [
    "\"\"\"\n",
    "getKmers\n",
    "- takes a sequence and a k-mer size\n",
    "- decomposes the sequence to canonical k-mers\n",
    "- returns a list of k-mers\n",
    "\"\"\"\n",
    "def getKmers(seq, k):\n",
    "    # a list to store the k-mers\n",
    "    kmers = []\n",
    "    \n",
    "    # calculate the number of possible k-mers\n",
    "    numKmers = len(seq) - k + 1\n",
    "    \n",
    "    # slide a window along the sequence and get each k-mer\n",
    "    for i in range(numKmers):\n",
    "        kmer = seq[i:i + k]\n",
    "        \n",
    "        # get reverse complement\n",
    "        rcKmer = screed.rc(kmer)\n",
    "        \n",
    "        # store the canonical k-mer\n",
    "        if kmer <= rcKmer:\n",
    "            kmers.append(kmer)\n",
    "        else:\n",
    "            kmers.append(rcKmer)\n",
    "    return kmers"
   ]
  },
  {
   "cell_type": "markdown",
   "metadata": {},
   "source": [
    "* Test the updated function:"
   ]
  },
  {
   "cell_type": "code",
   "execution_count": null,
   "metadata": {},
   "outputs": [],
   "source": [
    "print(getKmers(sequence, 5))\n",
    "print(getKmers(sequence, 6))\n",
    "print(getKmers(sequence, 7))"
   ]
  },
  {
   "cell_type": "markdown",
   "metadata": {},
   "source": [
    "### K-mer decomposition of genomes\n",
    "\n",
    "Now that we can decompose a sequence into the constituent canonical k-mers, let's try this for some genomes. We'll use screed again, this time to handle file parsing:"
   ]
  },
  {
   "cell_type": "code",
   "execution_count": null,
   "metadata": {},
   "outputs": [],
   "source": [
    "\"\"\"\n",
    "genome2kmers\n",
    "- takes a file and a k-mer size\n",
    "- decomposes the genome to canonical k-mers\n",
    "- returns a list of k-mers\n",
    "\"\"\"\n",
    "\n",
    "def genome2kmers(filename, k):\n",
    "    # a list to store the k-mers\n",
    "    kmers = []\n",
    "\n",
    "    # open the file and read the sequences\n",
    "    for record in screed.open(filename):\n",
    "        sequence = record.sequence\n",
    "        \n",
    "        # get the canonical k-mers and add them to the list\n",
    "        kmers += getKmers(sequence, k)\n",
    "\n",
    "    return kmers"
   ]
  },
  {
   "cell_type": "markdown",
   "metadata": {},
   "source": [
    "> NOTE: these functions in the notebook aren't very efficient but are a good way of illustrating the concepts. Nor do they feature any checking (e.g. for non-ACTG nucleotides). I just thought I'd mention that now before we move on.\n",
    "\n",
    "\n",
    "* Test it out:"
   ]
  },
  {
   "cell_type": "code",
   "execution_count": null,
   "metadata": {},
   "outputs": [],
   "source": [
    "genomeKmers = genome2kmers('../data/GCF_000025565.1_ASM2556v1_genomic.fna.gz', 31)\n",
    "print(genomeKmers[:10])"
   ]
  },
  {
   "cell_type": "markdown",
   "metadata": {},
   "source": [
    "## Genomic data streams\n",
    "\n",
    "### The basics\n",
    "\n",
    "In the review paper, I made a big deal about the fact that sketching is great for dealing with data streams; the point was that we can use sketching algorithms to summarise data as it's being generated (or received etc.).\n",
    "\n",
    "A data stream is essentially just continuous data; it can come from multiple sources and needs to be processed sequenctially and incrementally. Some examples are:\n",
    "\n",
    "* telemetry from some sort of monitoring device (e.g. heart rate monitor)\n",
    "\n",
    "* web data (e.g. content views)\n",
    "\n",
    "* customer logs (e.g. shop footfall)\n",
    "\n",
    "In the case of genomics, a data stream could be:\n",
    "\n",
    "* the download (or upload) of sequence data to a server\n",
    "\n",
    "* the generation of sequencing data (e.g. Nanopore)\n",
    "\n",
    "* the alignment of sequence reads against a reference\n",
    "\n",
    "\n",
    "To simulate a genomic data stream for these notebooks, we can use a Python [generator](https://wiki.python.org/moin/Generators). They basically allow you to start using data before it has finished being generated. So, where you had to wait a minute in the previous cell for our **genome2kmers** function to return a list of k-mers, we can use a generator to start giving us k-mers as soon as we start processing the genome.\n",
    "\n",
    "We'll adapt the previous function (genome2kmers) to now give us a generator. We will then use it in the other notebooks to simulate a genomic data stream."
   ]
  },
  {
   "cell_type": "code",
   "execution_count": null,
   "metadata": {},
   "outputs": [],
   "source": [
    "\"\"\"\n",
    "streamGenome\n",
    "- takes a file and a k-mer size\n",
    "- decomposes the genome to canonical k-mers\n",
    "- returns a Python generator that will yield the k-mers one at a time\n",
    "\"\"\"\n",
    "def streamGenome(filename, k):\n",
    "\n",
    "    # open the file and read the sequences\n",
    "    for record in screed.open(filename):\n",
    "        sequence = record.sequence\n",
    "\n",
    "        # calculate the number of possible k-mers\n",
    "        numKmers = len(sequence) - k + 1\n",
    "\n",
    "        # slide a window along the sequence and get each k-mer\n",
    "        for i in range(numKmers):\n",
    "            kmer = sequence[i:i + k]\n",
    "\n",
    "            # get reverse complement\n",
    "            rcKmer = screed.rc(kmer)\n",
    "\n",
    "            # get the canonical k-mer\n",
    "            if kmer <= rcKmer:\n",
    "                yield kmer\n",
    "            else:\n",
    "                yield rcKmer"
   ]
  },
  {
   "cell_type": "markdown",
   "metadata": {},
   "source": [
    "* Test it out by streaming the first 10 k-mers from the genome:"
   ]
  },
  {
   "cell_type": "code",
   "execution_count": null,
   "metadata": {},
   "outputs": [],
   "source": [
    "dataStream = streamGenome('../data/GCF_000025565.1_ASM2556v1_genomic.fna.gz', 31)\n",
    "for i in range(0,10):\n",
    "    print(next(dataStream))"
   ]
  },
  {
   "cell_type": "markdown",
   "metadata": {},
   "source": [
    "Now, let's look at some sketching algorithms:\n",
    "\n",
    "* [3.1 Set similarity with MinHash](../notebooks/r3.1.Set-similarity-with-MinHash.ipynb)\n",
    "* [3.2 Set membership with Bloom filter](../notebooks/r3.2.Set-membership-with-Bloom-filters.ipynb)\n",
    "* [3.3 Element frequency with Count-Min sketch](../notebooks/r3.3.Element-frequency-with-Count-Min-sketch.ipynb)\n",
    "* [3.4 Set cardinality with HyperLogLog](../notebooks/r3.4.Set-cardinality-with-HyperLogLog.ipynb)"
   ]
  },
  {
   "cell_type": "code",
   "execution_count": null,
   "metadata": {},
   "outputs": [],
   "source": []
  }
 ],
 "metadata": {
  "kernelspec": {
   "display_name": "Python 3",
   "language": "python",
   "name": "python3"
  },
  "language_info": {
   "codemirror_mode": {
    "name": "ipython",
    "version": 3
   },
   "file_extension": ".py",
   "mimetype": "text/x-python",
   "name": "python",
   "nbconvert_exporter": "python",
   "pygments_lexer": "ipython3",
   "version": "3.6.5"
  }
 },
 "nbformat": 4,
 "nbformat_minor": 2
}
