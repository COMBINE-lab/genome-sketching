{
 "cells": [
  {
   "cell_type": "markdown",
   "metadata": {},
   "source": [
    "# Workflows for genomics"
   ]
  },
  {
   "cell_type": "markdown",
   "metadata": {},
   "source": [
    "The idea behind these workflow notebooks is to show how we can apply sketching algorithms to real-world genomics problems. Hopefully the previous notebooks have given you a good understanding of how the algorithms work.\n",
    "\n",
    "We'll frame the scenario in this current notebook, describe the workflows and then use some other notebooks to go through them and showcase some of the great bioinformatics software that we can use."
   ]
  },
  {
   "cell_type": "markdown",
   "metadata": {},
   "source": [
    "***\n",
    "\n",
    "## Outbreak investigation\n",
    "\n",
    "Our scenario is based on a paper that was published a few years ago by Reuter et al.:\n",
    "\n",
    "> [Rapid Bacterial Whole-Genome Sequencing to Enhance Diagnostic and Public Health Microbiology](https://www.ncbi.nlm.nih.gov/pmc/articles/PMC4001082/)\n",
    "\n",
    "The purpose of this paper was to compare whole genome sequencing of bacterial isolates with standard clinical microbiology practice, in the context of investigating nosocomial outbreaks caused by multidrug-resistant bacteria.\n",
    "\n",
    "The main points of interest are:\n",
    "\n",
    "* pathogen identification\n",
    "\n",
    "* detection of AMR genes\n",
    "\n",
    "* defining possible transmission events\n",
    "\n",
    "\n",
    "We'll pick up on the analysis of an *Enterobacter cloacae* outbreak. The study included whole genome sequencing of several *E.cloacae* isolates, from before and after the outbreak.\n",
    "\n",
    "\n",
    "We will use genome sketching to:"
   ]
  },
  {
   "cell_type": "markdown",
   "metadata": {},
   "source": [
    "* [quality check the samples](r4.2.Sample-QC.ipynb)\n",
    "* [profile the AMR genes](r4.3.Resistome-profiling.ipynb)\n",
    "* [construct a tree of the outbreak](r4.4.Outbreak-surveillance.ipynb)\n",
    "* [mine public data for more nosocomial cases of this bacteria](r4.5.Data-mining.ipynb)\n",
    "* more to be added..."
   ]
  },
  {
   "cell_type": "code",
   "execution_count": null,
   "metadata": {},
   "outputs": [],
   "source": []
  }
 ],
 "metadata": {
  "kernelspec": {
   "display_name": "Python [conda env:sketching-review]",
   "language": "python",
   "name": "conda-env-sketching-review-py"
  },
  "language_info": {
   "codemirror_mode": {
    "name": "ipython",
    "version": 3
   },
   "file_extension": ".py",
   "mimetype": "text/x-python",
   "name": "python",
   "nbconvert_exporter": "python",
   "pygments_lexer": "ipython3",
   "version": "3.6.5"
  }
 },
 "nbformat": 4,
 "nbformat_minor": 2
}
