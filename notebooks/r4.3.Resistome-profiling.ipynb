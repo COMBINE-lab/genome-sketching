{
 "cells": [
  {
   "cell_type": "markdown",
   "metadata": {},
   "source": [
    "# Resistome profiling\n",
    "\n",
    "One of the main concerns during the suspected outbreak of *E.cloacae* was the possibility of antimicrobial resistance (AMR), particularly carbapenem resistance.\n",
    "\n",
    "For this step in the workflow, we'll be sketching with:\n",
    "\n",
    "* MinHash\n",
    "* Minimizers\n",
    "\n",
    "***\n",
    "\n",
    "## Taking a quick look with MinHash\n",
    "\n",
    "To quickly tell if there are any known AMR genes in these samples, we can use [GROOT](https://github.com/will-rowe/groot). GROOT is designed for metagenomes but does the job for isolates too. It works by building variation graphs for clusters of genes, then indexing the traverslas in each graph using **MinHash** sketches.\n",
    "\n",
    "We're going to see how you can sketch reads as you download them, this means you could just keep the samples which contain the genes that you are intested in. GROOT also has read QC and trimming built in, so bad reads will be handled.\n",
    "\n",
    "* to begin, download a reference AMR database and index it:"
   ]
  },
  {
   "cell_type": "code",
   "execution_count": 167,
   "metadata": {},
   "outputs": [
    {
     "name": "stdout",
     "output_type": "stream",
     "text": [
      "downloading the pre-clustered arg-annot database...\n",
      "unpacking...\n",
      "could not save db to specified directory\n"
     ]
    }
   ],
   "source": [
    "# download the ResFinder database\n",
    "!groot get -d arg-annot\n",
    "\n",
    "# index the database\n",
    "!groot index -i ./arg-annot.90 -l 150 -k 21 -s 24 -o arg-annot-index"
   ]
  },
  {
   "cell_type": "markdown",
   "metadata": {},
   "source": [
    "> `-l` specifies the window length to sketch in the graph, which should be similar to the read length\n",
    "\n",
    "> `-k` specifies the k-mer length and `-s` specifies the sketch size\n",
    "\n",
    "> GROOT is quicker if we use multiple cpus to index or sketch (using groot `--processors`)\n",
    "\n",
    "* now we stream the data from the ENA; as reads arrive we align them to the reference graphs"
   ]
  },
  {
   "cell_type": "code",
   "execution_count": 169,
   "metadata": {},
   "outputs": [
    {
     "name": "stdout",
     "output_type": "stream",
     "text": [
      "Read 1048216 spots for ERX168346\r\n",
      "Written 1048216 spots for ERX168346\r\n"
     ]
    }
   ],
   "source": [
    "# stream the reads and align them to the graphs\n",
    "!fastq-dump ERX168346 -Z --split-files | groot align -i arg-annot-index -o ERX168346-graphs > ERX168346.bam\n"
   ]
  },
  {
   "cell_type": "markdown",
   "metadata": {},
   "source": [
    "> we use fastq-dump to stream reads from the ENA download into the groot command (via the `-Z` flag and pipe `|`)\n",
    "\n",
    "> the align subcommand produces a BAM file containing all graph traversals for each read. Each BAM file essentially contains the ARG-derived reads.\n",
    "\n",
    "> the gfa variation graphs which had reads align are also kept and can be viewed in Bandage etc.\n",
    "\n",
    "* now, report what AMR genes are present in this sample:"
   ]
  },
  {
   "cell_type": "code",
   "execution_count": 175,
   "metadata": {},
   "outputs": [
    {
     "name": "stdout",
     "output_type": "stream",
     "text": [
      "argannot~~~(Bla)SHV-183~~~HG934764:1-864\t87\t864\t3D849M12D\r\n",
      "argannot~~~(Sul)SulI~~~AF071413:6700-7539\t223\t840\t6D834M\r\n",
      "argannot~~~(Tmt)DfrA1~~~JQ794607:474\t377\t474\t5D469M\r\n",
      "argannot~~~(Bla)SHV-12~~~FJ685654:24-860\t86\t861\t3D846M12D\r\n",
      "argannot~~~(Sul)SulII~~~EU360945:1617-2432\t123\t816\t816M\r\n",
      "argannot~~~(AGly)Sat-2A~~~X51546:518-1042\t331\t525\t3D522M\r\n"
     ]
    }
   ],
   "source": [
    "!groot report -i ERX168346.bam --lowCov\n"
   ]
  },
  {
   "cell_type": "markdown",
   "metadata": {},
   "source": [
    "> the `--lowCov` flag is used as we are using GROOT on isolates, not metagenomes. The flag ignores uncovered reads in the first few bases of each gene, which are usually uncovered because there are not enough reads to completely span the gene (partial gene alignments aren't counted by GROOT).\n",
    "\n",
    "This result tells us that our isolates contain AMR genes and this warrants further inspection. Good job we have already QC'd the data and have this waiting for us.\n",
    "\n",
    "The [paper](https://www.ncbi.nlm.nih.gov/pmc/articles/PMC4001082/) that describes this outbreak was particularly interested in beta-lactam resistance. They found *blaSHV-12*, *blaIMP-1* and *blaTEM-1* genes in **isolate EC1a** (ERX168346). This was the only *E.cloacae* isolate in which they found these genes, or did any phenotypic testing for.\n",
    "\n",
    "We managed to find *blaSHV-12* in our MinHash search but not *blaIMP-1* and *blaTEM-1*. If we look at the BAM file, we do find some reads matching these two genes but we didn't get enough coverage to call the genes. We also used the raw data. Let's now try using the cleaned data and doing a full read-alignment.\n"
   ]
  },
  {
   "cell_type": "markdown",
   "metadata": {},
   "source": [
    "## Mapping reads with MiniMap2\n",
    "\n",
    "The quick look with GROOT told us that these samples contain AMR genes. Let's say that we decided to keep these downloaded samples on disk and then quality checked them using our previous workflow.\n",
    "\n",
    "We will use [MiniMap2](https://github.com/lh3/minimap2) to map our quality checked reads to the reference AMR genes, which we will index with **minimizers**."
   ]
  },
  {
   "cell_type": "markdown",
   "metadata": {},
   "source": [
    "* get the fasta sequences for the AMR genes in the ARG-annot database:"
   ]
  },
  {
   "cell_type": "code",
   "execution_count": 176,
   "metadata": {},
   "outputs": [
    {
     "name": "stdout",
     "output_type": "stream",
     "text": [
      "--2019-04-09 13:57:06--  https://raw.githubusercontent.com/will-rowe/groot/master/db/full-ARG-databases/arg-annot-db/argannot-args.fna\n",
      "Resolving raw.githubusercontent.com... 151.101.16.133\n",
      "Connecting to raw.githubusercontent.com|151.101.16.133|:443... connected.\n",
      "HTTP request sent, awaiting response... 200 OK\n",
      "Length: 1651832 (1.6M) [text/plain]\n",
      "Saving to: 'argannot-args.fna.2'\n",
      "\n",
      "argannot-args.fna.2 100%[===================>]   1.58M  4.17MB/s    in 0.4s    \n",
      "\n",
      "2019-04-09 13:57:07 (4.17 MB/s) - 'argannot-args.fna.2' saved [1651832/1651832]\n",
      "\n"
     ]
    }
   ],
   "source": [
    "!wget https://raw.githubusercontent.com/will-rowe/groot/master/db/full-ARG-databases/arg-annot-db/argannot-args.fna"
   ]
  },
  {
   "cell_type": "markdown",
   "metadata": {},
   "source": [
    "* index the AMR genes and align our quality trimmed reads:"
   ]
  },
  {
   "cell_type": "code",
   "execution_count": 222,
   "metadata": {},
   "outputs": [
    {
     "name": "stdout",
     "output_type": "stream",
     "text": [
      "[M::mm_idx_gen::0.075*1.13] collected minimizers\n",
      "[M::mm_idx_gen::0.093*1.48] sorted minimizers\n",
      "[M::main::0.113*1.39] loaded/built the index for 1749 target sequence(s)\n",
      "[M::mm_idx_stat] kmer size: 21; skip: 11; is_hpc: 0; #seq: 1749\n",
      "[M::mm_idx_stat::0.115*1.39] distinct minimizers: 97399 (79.09% are singletons); average occurrences: 2.551; average spacing: 6.156\n",
      "[M::main] Version: 2.16-r922\n",
      "[M::main] CMD: minimap2 -x sr -d argannot-args.mmi argannot-args.fna\n",
      "[M::main] Real time: 0.132 sec; CPU: 0.173 sec; Peak RSS: 0.015 GB\n",
      "[M::main::0.029*1.23] loaded/built the index for 1749 target sequence(s)\n",
      "[M::mm_mapopt_update::0.029*1.23] mid_occ = 1000\n",
      "[M::mm_idx_stat] kmer size: 21; skip: 11; is_hpc: 0; #seq: 1749\n",
      "[M::mm_idx_stat::0.031*1.22] distinct minimizers: 97399 (79.09% are singletons); average occurrences: 2.551; average spacing: 6.156\n",
      "[M::worker_pipeline::3.529*0.62] mapped 251286 sequences\n",
      "[M::main] Version: 2.16-r922\n",
      "[M::main] CMD: minimap2 -x sr -t 1 -a argannot-args.mmi ./ERX168346_1-trimmed.cor.fq.gz ./ERX168346_2-trimmed.cor.fq.gz\n",
      "[M::main] Real time: 3.539 sec; CPU: 2.192 sec; Peak RSS: 0.093 GB\n"
     ]
    }
   ],
   "source": [
    "# create the index\n",
    "!minimap2 -x sr -d argannot-args.mmi argannot-args.fna\n",
    "# align the reads and output as a bam file\n",
    "!minimap2 -x sr -t 1 -a argannot-args.mmi ./*cor.fq.gz | samtools view -b -o ERX168346-minimap2.bam"
   ]
  },
  {
   "cell_type": "markdown",
   "metadata": {},
   "source": [
    "* sort, index and read in the alignment:"
   ]
  },
  {
   "cell_type": "code",
   "execution_count": 223,
   "metadata": {},
   "outputs": [],
   "source": [
    "import pysam\n",
    "pysam.sort(\"-o\", \"ERX168346-minimap2.bam\", \"ERX168346-minimap2.bam\")\n",
    "pysam.index(\"ERX168346-minimap2.bam\")\n",
    "# the rb arguments tell pysam that we are reading in a bam file\n",
    "samfile = pysam.AlignmentFile(\"ERX168346-minimap2.bam\", \"rb\")"
   ]
  },
  {
   "cell_type": "markdown",
   "metadata": {},
   "source": [
    "* let's look at the all the AMR genes that were at least 95% covered:"
   ]
  },
  {
   "cell_type": "code",
   "execution_count": 224,
   "metadata": {},
   "outputs": [
    {
     "name": "stdout",
     "output_type": "stream",
     "text": [
      "argannot~~~(AGly)Sat-2A~~~X51546:518-1042 is 100.0% covered by reads\n",
      "argannot~~~(Sul)SulI~~~AF071413:6700-7539 is 99.76190476190476% covered by reads\n",
      "argannot~~~(Sul)SulII~~~EU360945:1617-2432 is 98.52941176470588% covered by reads\n",
      "argannot~~~(Tmt)DfrA1~~~JQ794607:474 is 100.0% covered by reads\n"
     ]
    }
   ],
   "source": [
    "# check each AMR gene in the database\n",
    "for ref in samfile.header['SQ']:\n",
    "    name=ref['SN']\n",
    "    length=ref['LN']\n",
    "    # create a pilup for the reference AMR gene\n",
    "    pileup=samfile.pileup(name)\n",
    "    coveredBases=0\n",
    "    # see if any reads aligned to this AMR gene\n",
    "    for pos,column in enumerate(pileup,1):\n",
    "        coveredBases+=1\n",
    "\n",
    "    # if >95% of the AMR gene had reads align, print the name of the gene and it's coverage\n",
    "    coverage=(coveredBases/length)*100\n",
    "    if (coverage > 95):\n",
    "        print(\"{} is {}% covered by reads\" .format(name, coverage))\n",
    "\n",
    "# close the alignment file\n",
    "samfile.close()"
   ]
  },
  {
   "cell_type": "markdown",
   "metadata": {},
   "source": [
    "Still no carbapenemase genes! And some of our other AMR genes which GROOT found are no longer showing up. We might have trimmed our reads too aggressively, or the gene causing the phenotypic carbapenem resistance in the EC1a isolate might not be in our database.\n",
    "\n",
    "* let's try again but this time use the raw data:"
   ]
  },
  {
   "cell_type": "code",
   "execution_count": 226,
   "metadata": {},
   "outputs": [
    {
     "name": "stdout",
     "output_type": "stream",
     "text": [
      "[M::main::0.051*0.89] loaded/built the index for 1749 target sequence(s)\n",
      "[M::mm_mapopt_update::0.052*0.89] mid_occ = 1000\n",
      "[M::mm_idx_stat] kmer size: 21; skip: 11; is_hpc: 0; #seq: 1749\n",
      "[M::mm_idx_stat::0.054*0.90] distinct minimizers: 97399 (79.09% are singletons); average occurrences: 2.551; average spacing: 6.156\n",
      "[M::worker_pipeline::16.511*0.18] mapped 333334 sequences\n",
      "[M::worker_pipeline::24.148*0.25] mapped 333334 sequences\n",
      "[M::worker_pipeline::31.599*0.28] mapped 333334 sequences\n",
      "[M::worker_pipeline::39.132*0.31] mapped 333334 sequences\n",
      "[M::worker_pipeline::46.951*0.32] mapped 333334 sequences\n",
      "[M::worker_pipeline::54.963*0.33] mapped 333334 sequences\n",
      "Read 1048216 spots for ERX168346\n",
      "Written 1048216 spots for ERX168346\n",
      "[M::worker_pipeline::57.262*0.34] mapped 96428 sequences\n",
      "[M::main] Version: 2.16-r922\n",
      "[M::main] CMD: minimap2 -x sr -t 1 -a argannot-args.mmi -\n",
      "[M::main] Real time: 57.274 sec; CPU: 19.316 sec; Peak RSS: 0.196 GB\n"
     ]
    }
   ],
   "source": [
    "!fastq-dump ERX168346 -Z --split-files |  minimap2 -x sr -t 1 -a argannot-args.mmi - | samtools view -b -o ERX168346-minimap2.bam\n"
   ]
  },
  {
   "cell_type": "markdown",
   "metadata": {},
   "source": [
    "* now process the alignment:"
   ]
  },
  {
   "cell_type": "code",
   "execution_count": 227,
   "metadata": {},
   "outputs": [
    {
     "name": "stdout",
     "output_type": "stream",
     "text": [
      "argannot~~~(AGly)Aac6-Ib~~~M21682:380-985 is 100.0% covered by reads\n",
      "argannot~~~(AGly)AacA4~~~AF416297:2738-3304 is 99.64726631393297% covered by reads\n",
      "argannot~~~(AGly)Sat-2A~~~X51546:518-1042 is 100.0% covered by reads\n",
      "argannot~~~(Bla)IMP-39~~~D50438:1195-1935 is 100.0% covered by reads\n",
      "argannot~~~(Bla)OXA-9~~~NC_015515:451-1290 is 100.0% covered by reads\n",
      "argannot~~~(Flq)Qnr-A1~~~AY070235:303-959 is 100.0% covered by reads\n",
      "argannot~~~(Phe)CatA2~~~X53796:187-903 is 100.0% covered by reads\n",
      "argannot~~~(Sul)SulI~~~AF071413:6700-7539 is 100.0% covered by reads\n",
      "argannot~~~(Sul)SulII~~~EU360945:1617-2432 is 100.0% covered by reads\n",
      "argannot~~~(Tmt)DfrA1~~~JQ794607:474 is 100.0% covered by reads\n",
      "argannot~~~(Tmt)DfrA14~~~GU726917:72-545 is 100.0% covered by reads\n"
     ]
    }
   ],
   "source": [
    "pysam.sort(\"-o\", \"ERX168346-minimap2.bam\", \"ERX168346-minimap2.bam\")\n",
    "pysam.index(\"ERX168346-minimap2.bam\")\n",
    "samfile = pysam.AlignmentFile(\"ERX168346-minimap2.bam\", \"rb\")\n",
    "for ref in samfile.header['SQ']:\n",
    "    name=ref['SN']\n",
    "    length=ref['LN']\n",
    "    # create a pilup for the reference AMR gene\n",
    "    pileup=samfile.pileup(name)\n",
    "    # counter for the covered bases\n",
    "    coveredBases=0\n",
    "    # iterate over each position in this gene and incremenet a counter if a read aligned here\n",
    "    for pos,column in enumerate(pileup,1):\n",
    "        # read covers this base in the reference\n",
    "        coveredBases+=1\n",
    "            \n",
    "    # if 100% of the AMR gene had reads align, print the name of the gene\n",
    "    coverage=(coveredBases/length)*100\n",
    "    if (coverage > 99):\n",
    "        print(\"{} is {}% covered by reads\" .format(name, coverage))"
   ]
  },
  {
   "cell_type": "markdown",
   "metadata": {},
   "source": [
    "So we do have a carbapenemase gene (*blaIMP*) in our sample - why are we only finding this now?!\n",
    "\n",
    "* look at the alignments for *blaIMP-39*:"
   ]
  },
  {
   "cell_type": "code",
   "execution_count": 228,
   "metadata": {},
   "outputs": [
    {
     "name": "stdout",
     "output_type": "stream",
     "text": [
      "61S89M\n",
      "28S122M\n",
      "58S92M\n",
      "82H68M\n",
      "150M\n",
      "150M\n",
      "150M\n",
      "150M\n",
      "150M\n",
      "150M\n",
      "150M\n",
      "150M\n",
      "150M\n",
      "10S140M\n",
      "150M\n",
      "150M\n",
      "150M\n",
      "150M\n",
      "150M\n",
      "150M\n",
      "150M\n",
      "150M\n",
      "150M\n",
      "101M49S\n",
      "49S101M\n",
      "99M51S\n",
      "51S99M\n",
      "150M\n",
      "150M\n",
      "150M\n",
      "150M\n",
      "150M\n",
      "150M\n",
      "None\n",
      "150M\n",
      "150M\n",
      "116M34S\n",
      "114M36S\n",
      "67M83S\n",
      "62M88S\n",
      "None\n",
      "56S57M37S\n",
      "44M106S\n"
     ]
    }
   ],
   "source": [
    "# the fetch method creates an iterator around the region we give\n",
    "iter = samfile.fetch(\"argannot~~~(Bla)IMP-39~~~D50438:1195-1935\")\n",
    "# we can loop over the reads aligned to the specified region\n",
    "for read in iter:\n",
    "    print(read.cigarstring)\n",
    "samfile.close()"
   ]
  },
  {
   "cell_type": "markdown",
   "metadata": {},
   "source": [
    "That's a lot of clipping (S and H in the CIGAR strings)!\n",
    "\n",
    "The reasons we haven't seen this carbapenemase gene so far are probably because:\n",
    "\n",
    "* GROOT is quite stringent - the default settings we used don't allow that much clipping in the read alignment, so these reads will have been dropped after mapping (seeding)\n",
    "\n",
    "* the trimmed reads we used with MiniMap2 will have had these clipped regions removed, or the whole read dropped, so MiniMap2 wouldn't have tried mapping them\n",
    "\n",
    "* MiniMap2 is good at aligning reads with errors in them, so using the raw data and then checking each gene we are interested in turns out to be a good approach.\n",
    "\n",
    "To check this theory, just look in the GROOT alignment from earlier. This BAM file actually contains all the MinHash sketch matches for the reads against the AMR genes. You can count the number of reads that mapped to the *blaIMP-39* and it's roughly the same as the MiniMap2 alignment - which is to be expected as they are both using similar sketches to seed the reads.\n",
    "\n",
    "In terms of our workflow for resistome profiling - I'm not sure how confident we would be in calling this exact gene as being present but there is definitely some form of beta lactamase gene there!\n",
    "\n",
    "As stated earlier, the sequencing data for these isolates isn't great. Our QC actually gets rid of the reads that result in this AMR gene being called."
   ]
  }
 ],
 "metadata": {
  "kernelspec": {
   "display_name": "Python [conda env:genome-sketching] *",
   "language": "python",
   "name": "conda-env-genome-sketching-py"
  },
  "language_info": {
   "codemirror_mode": {
    "name": "ipython",
    "version": 3
   },
   "file_extension": ".py",
   "mimetype": "text/x-python",
   "name": "python",
   "nbconvert_exporter": "python",
   "pygments_lexer": "ipython3",
   "version": "3.6.5"
  }
 },
 "nbformat": 4,
 "nbformat_minor": 2
}
