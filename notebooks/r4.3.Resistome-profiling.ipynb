{
 "cells": [
  {
   "cell_type": "markdown",
   "metadata": {},
   "source": [
    "# Resistome profiling\n",
    "\n",
    "One of the main concerns during the suspected outbreak of *E.cloacae* was the possibility of antimicrobial resistance (AMR), particularly carbapenem resistance.\n",
    "\n",
    "For this step in the workflow, we'll be sketching with:\n",
    "\n",
    "* MinHash\n",
    "\n",
    "***\n",
    "\n",
    "## Quick look\n",
    "\n",
    "To quickly tell if there are any AMR genes in these samples, we can use [GROOT](https://github.com/will-rowe/groot). GROOT is designed for metagenomes but does the job for isolates too. It works by building variation graphs for clusters of genes, then indexing each graph traversal using MinHash sketches.\n",
    "\n",
    "Because we just want a quick look, we will use the raw sequence data from our samples. This is to demonstrate that sketching is quite useful when you want an answer quickly. GROOT also has read QC and trimming built in, so bad reads will be handled.\n",
    "\n",
    "* download a reference AMR database and index it:"
   ]
  },
  {
   "cell_type": "code",
   "execution_count": 10,
   "metadata": {},
   "outputs": [
    {
     "name": "stdout",
     "output_type": "stream",
     "text": [
      "downloading the pre-clustered resfinder database...\n",
      "unpacking...\n",
      "database saved to: ./resfinder.90\n",
      "now run `groot index -i ./resfinder.90` or `groot index --help` for full options\n"
     ]
    }
   ],
   "source": [
    "# download the ResFinder database\n",
    "!groot get -d resfinder\n",
    "\n",
    "# index the database\n",
    "!groot index -i ./resfinder.90 -l 150 -o resfinder-index"
   ]
  },
  {
   "cell_type": "markdown",
   "metadata": {},
   "source": [
    "> -l specifies the window length to sketch in the graph, which should be similar to the read length\n",
    "\n",
    "* align the reads to the reference graphs"
   ]
  },
  {
   "cell_type": "code",
   "execution_count": 11,
   "metadata": {},
   "outputs": [],
   "source": [
    "# align the reads\n",
    "!gunzip -c ../data/reads/ERX168346_*.fastq.gz | groot align -i resfinder-index --trim -q 20 -o ERX168346-graphs > ERX168346.bam"
   ]
  },
  {
   "cell_type": "markdown",
   "metadata": {},
   "source": [
    "> the align subcommand produces a BAM file containing all graph traversals for each read. Each BAM file essentially contains the ARG-derived reads.\n",
    "\n",
    "> the gfa variation graphs which had reads align are also kept and can be viewed in Bandage etc.\n",
    "\n",
    "* now, report what genes are present:"
   ]
  },
  {
   "cell_type": "code",
   "execution_count": 12,
   "metadata": {},
   "outputs": [
    {
     "name": "stdout",
     "output_type": "stream",
     "text": [
      "sul2_2_GQ421466\t55\t816\t813M3D\r\n",
      "sul1_2_CP002151\t132\t927\t904M23D\r\n",
      "blaSHV-12_1_AF462395\t42\t861\t4D845M12D\r\n",
      "sul2_10_AM183225\t55\t819\t816M3D\r\n",
      "dfrA1_1_X00926\t153\t474\t10D463M1D\r\n",
      "sul2_14_AJ514834\t53\t819\t803M16D\r\n",
      "blaTEM-1A_4_HM749966\t89\t861\t4D851M6D\r\n",
      "aadA1_4_JQ480156\t262\t789\t6D777M6D\r\n"
     ]
    }
   ],
   "source": [
    "!groot report -i ERX168346.bam --lowCov"
   ]
  },
  {
   "cell_type": "markdown",
   "metadata": {},
   "source": [
    "> the --lowCov flag is used as we are using GROOT on isolates. The flag ignores uncovered reads in the first few bases of each gene, which are usually uncovered because there are not enough reads to completely span the gene (partial read alignments aren't counted by GROOT)."
   ]
  },
  {
   "cell_type": "code",
   "execution_count": null,
   "metadata": {},
   "outputs": [],
   "source": []
  }
 ],
 "metadata": {
  "kernelspec": {
   "display_name": "Python [conda env:genome-sketching] *",
   "language": "python",
   "name": "conda-env-genome-sketching-py"
  },
  "language_info": {
   "codemirror_mode": {
    "name": "ipython",
    "version": 3
   },
   "file_extension": ".py",
   "mimetype": "text/x-python",
   "name": "python",
   "nbconvert_exporter": "python",
   "pygments_lexer": "ipython3",
   "version": "3.6.5"
  }
 },
 "nbformat": 4,
 "nbformat_minor": 2
}
