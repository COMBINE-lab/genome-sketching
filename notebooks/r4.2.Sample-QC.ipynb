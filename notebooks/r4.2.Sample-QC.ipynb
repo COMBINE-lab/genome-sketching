{
 "cells": [
  {
   "cell_type": "markdown",
   "metadata": {},
   "source": [
    "# Sample QC\n",
    "\n",
    "This notebook is a quick guide to how sketching algorithms can be used for sample QC. The particular emphasis is on getting from raw sequencing data to filtered reads, which we will then use in the next steps of our genomics workflow.\n",
    "\n",
    "> Note: many sketching algorithms can work with raw data, which contributes to the speed benefits of sketching. That being said, if we want more than just a quick and dirty analysis, it's always best to QC your data...\n",
    "\n",
    "We'll use the following sketching algorithms, implemented via some excellent open-source bioinformatics software:\n",
    "\n",
    "* MinHash\n",
    "* CountMin sketch\n",
    "* Bloom filter\n",
    "\n",
    "***\n",
    "\n",
    "## The data\n",
    "\n",
    "As mentioned in 4.1, we are looking at a suspected outbreak of *E.cloacae* in a hospital. We are using the sequence data collected during the [Reuter et al.](https://www.ncbi.nlm.nih.gov/pmc/articles/PMC4001082/) study. The following table contains the accessions for the isolates we need, I just grabbed this from the [supplementary file](https://www.ncbi.nlm.nih.gov/pmc/articles/PMC4001082/bin/NIHMS58061-supplement-Supplementary_Online_Content.pdf) and then added the ENA experiment IDs.\n",
    "\n",
    "|isolate name|patient ID|ENA sample|ENA experiment|\n",
    "|-|-|-|-|\n",
    "EC1a|EC1|ERS184249|ERX168346|\n",
    "EC2a|EC2|ERS184250|ERX168347|\n",
    "EC2b|EC2|ERS184251|ERX168341|\n",
    "EC3a|EC3|ERS184252|ERX168340|\n",
    "EC4a|EC4|ERS184245|ERX168345|\n",
    "EC5a|EC5|ERS184246|ERX168339|\n",
    "EC6a|EC6|ERS184247|ERX168343|\n",
    "EC7a|EC7|ERS184248|ERX168344|\n",
    "\n",
    "These samples correspond to whole genome sequence data for *E.cloacae* isolates, collected from several patients in the hospital during the suspected outbreak.\n",
    "\n",
    "To save us the pain of waiting for fastq-dump to collect the data, I have already downloaded it. For future reference though, use `fastq-dump` (part of [sra-tools](https://github.com/ncbi/sra-tools)) to download this data from the ENA. We could have sketched this download data stream, but as we know that we need this data for our analysis it is best to have it stored on disk. You'll see later how we can sketch a data stream from a download, evaluate these sketches to see if the data is helpful for our analysis, and then decide to store or discard it.\n",
    "\n",
    "The sequence data for these isolates is actually pretty poor quality - [FastQC](https://www.bioinformatics.babraham.ac.uk/projects/fastqc/) showed the terminal 50 bases to be full of Ns and the quality dropped below Q20. So I ran Trimmomatic to clean the data, here is the command ran for one sample:\n",
    "\n",
    "```\n",
    "trimmomatic PE ERX168346_1.fastq ERX168346_2.fastq ERX168346_1-trimmed.fq ERX168346_1-se ERX168346_2-trimmed.fq ERX168346_2-se SLIDINGWINDOW:5:20 MINLEN:100\n",
    "```\n",
    "\n",
    "So, we now have quality checked, trimmed sequence data for each sample downloaded and ready to go. This is stored in `../data/reads`. To make things easier to follow, the following steps will be ran on just one of these samples. Feel free to update the code to run on all of them!"
   ]
  },
  {
   "cell_type": "markdown",
   "metadata": {},
   "source": [
    "## Sanity check\n",
    "\n",
    "Are my samples what I think they are?!\n",
    "\n",
    "The study labelled these isolates as *E.cloacae*, let's use **MinHash** to check. We'll be using the excellent [sourmash](https://github.com/dib-lab/sourmash) software. The sourmash docs actually have loads of great examples and workflows - be sure to check them out too.\n",
    "\n",
    "\n",
    "* start with downloading a reference database of MinHash genome sketches:"
   ]
  },
  {
   "cell_type": "code",
   "execution_count": 71,
   "metadata": {},
   "outputs": [
    {
     "name": "stdout",
     "output_type": "stream",
     "text": [
      "--2019-04-08 13:42:49--  https://osf.io/4f8n3/download\n",
      "Resolving osf.io... 35.190.84.173\n",
      "Connecting to osf.io|35.190.84.173|:443... connected.\n",
      "HTTP request sent, awaiting response... 302 FOUND\n",
      "Location: https://files.osf.io/v1/resources/vk4fa/providers/osfstorage/5c17c7754eb58100178fa5b3?action=download&version=1&direct [following]\n",
      "--2019-04-08 13:42:50--  https://files.osf.io/v1/resources/vk4fa/providers/osfstorage/5c17c7754eb58100178fa5b3?action=download&version=1&direct\n",
      "Resolving files.osf.io... 35.186.214.196\n",
      "Connecting to files.osf.io|35.186.214.196|:443... connected.\n",
      "HTTP request sent, awaiting response... 200 OK\n",
      "Length: 125814027 (120M) [application/octet-stream]\n",
      "Saving to: 'genbank-k31.lca.json.gz'\n",
      "\n",
      "genbank-k31.lca.jso 100%[===================>] 119.99M  4.37MB/s    in 28s     \n",
      "\n",
      "2019-04-08 13:43:20 (4.28 MB/s) - 'genbank-k31.lca.json.gz' saved [125814027/125814027]\n",
      "\n"
     ]
    }
   ],
   "source": [
    "# download the pre-made MinHash database (courtesy of sourmash) containing all GenBank microbial genomes\n",
    "!wget -O genbank-k31.lca.json.gz https://osf.io/4f8n3/download"
   ]
  },
  {
   "cell_type": "markdown",
   "metadata": {},
   "source": [
    "* next, create a MinHash sketch of the reads from one sample:"
   ]
  },
  {
   "cell_type": "code",
   "execution_count": 72,
   "metadata": {},
   "outputs": [
    {
     "name": "stdout",
     "output_type": "stream",
     "text": [
      "\u001b[K== This is sourmash version 2.0.0. ==\n",
      "\u001b[K== Please cite Brown and Irber (2016), doi:10.21105/joss.00027. ==\n",
      "\n",
      "\u001b[Ksetting num_hashes to 0 because --scaled is set\n",
      "\u001b[Kcomputing signatures for files: ../data/reads/ERX168346_1-trimmed.fq.gz, ../data/reads/ERX168346_2-trimmed.fq.gz\n",
      "\u001b[KComputing signature for ksizes: [31]\n",
      "\u001b[KComputing only nucleotide (and not protein) signatures.\n",
      "\u001b[KComputing a total of 1 signature(s).\n",
      "\u001b[K... reading sequences from ../data/reads/ERX168346_1-trimmed.fq.gz\n",
      "\u001b[K... ../data/reads/ERX168346_1-trimmed.fq.gz 125643 sequences\n",
      "\u001b[K... reading sequences from ../data/reads/ERX168346_2-trimmed.fq.gz\n",
      "\u001b[K... ../data/reads/ERX168346_2-trimmed.fq.gz 125643 sequences\n",
      "\u001b[Kcalculated 1 signatures for 251286 sequences taken from 2 files\n",
      "\u001b[Ksaved 1 signature(s). Note: signature license is CC0.\n"
     ]
    }
   ],
   "source": [
    "# sketch the reads from a sample\n",
    "!sourmash compute --scaled 1000 -k 31 ../data/reads/ERX168346_*-trimmed.fq.gz --merge ERX168346 -o ERX168346.sketch "
   ]
  },
  {
   "cell_type": "markdown",
   "metadata": {},
   "source": [
    "> the --scaled flag tells sourmash to decide the number of hashes to include in the MinHash sketch. Sourmash decides this based on the sequence length; it is effectively setting a compression ratio of 1000-to-1.\n",
    "\n",
    "> make sure that k-mer size for the sketch matches the k-mer size of the reference database (31)\n",
    "\n",
    "> the --merge flag tells sourmash to combine all the sketches into a single sketch. This is needed as our data is paired-end and we just want to have a single sketch per sample.\n",
    "\n",
    "* now we have sketched our sample, we can compare it to the reference sketches and check we have the organism we expect (e.cloacae!):"
   ]
  },
  {
   "cell_type": "code",
   "execution_count": 73,
   "metadata": {},
   "outputs": [
    {
     "name": "stdout",
     "output_type": "stream",
     "text": [
      "\u001b[K== This is sourmash version 2.0.0. ==\n",
      "\u001b[K== Please cite Brown and Irber (2016), doi:10.21105/joss.00027. ==\n",
      "\n",
      "\u001b[Kloaded query: ERX168346... (k=31, DNA)\n",
      "\u001b[Kloaded 1 databases.                                                            \n",
      "\n",
      "\n",
      "overlap     p_query p_match\n",
      "---------   ------- -------\n",
      "4.4 Mbp       95.1%   91.7%    FKBP01000001.1 Enterobacter cloacae s...\n",
      "\u001b[Kfound less than 10.0 kbp in common. => exiting\n",
      "\n",
      "found 1 matches total;\n",
      "the recovered matches hit 95.1% of the query\n",
      "\n"
     ]
    }
   ],
   "source": [
    "# compare the sketch of the reads against each sketch in the reference database\n",
    "!sourmash gather -k 31 ERX168346.sketch genbank-k31.lca.json.gz"
   ]
  },
  {
   "cell_type": "markdown",
   "metadata": {},
   "source": [
    "So the sketch from our sample matches the sketch of the E.cloacae reference genome - yay!\n",
    "\n",
    "It wasn't a complete match however, there is a little bit of a difference between the sketches. This is probably due to sequencing error. We will have a fair few unique k-mers in the sequencing data, which typically arise from errors during sequencing (but could also be from strain variation).\n",
    "\n",
    "Let's use some more sketching to investigate!\n",
    "\n",
    "\n",
    "## K-mer spectrum\n",
    "\n",
    "First off, let's check that our guess is right. Do we have a lot of unique k-mers? To answer this, we'll use the **Count-Min sketch** and another piece of software from Titus Brown et al. - [khmer](https://github.com/dib-lab/khmer).\n",
    "\n",
    "* begin by using a Count-Min sketch to create a k-mer count graph (the k-mer spectrum):"
   ]
  },
  {
   "cell_type": "code",
   "execution_count": 88,
   "metadata": {},
   "outputs": [
    {
     "name": "stdout",
     "output_type": "stream",
     "text": [
      "\n",
      "|| This is the script abundance-dist-single.py in khmer.\n",
      "|| You are running khmer version 3.0.0a2\n",
      "|| You are also using screed version 1.0\n",
      "||\n",
      "|| If you use this script in a publication, please cite EACH of the following:\n",
      "||\n",
      "||   * MR Crusoe et al., 2015. http://dx.doi.org/10.12688/f1000research.6924.1\n",
      "||   * Q Zhang et al., http://dx.doi.org/10.1371/journal.pone.0101271\n",
      "||   * A. Döring et al. http://dx.doi.org:80/10.1186/1471-2105-9-11\n",
      "||\n",
      "|| Please see http://khmer.readthedocs.io/en/latest/citations.html for details.\n",
      "\n",
      "\n",
      "PARAMETERS:\n",
      " - kmer size =     21 \t\t(-k)\n",
      " - n tables =      4 \t\t(-N)\n",
      " - max tablesize = 2.5e+08 \t(-x)\n",
      "Estimated memory usage is 1.0 Gb (1e+09 bytes = 4 bytes x 2.5e+08 entries / 1 entries per byte)\n",
      "--------\n",
      "making countgraph\n",
      "building k-mer tracking graph\n",
      "kmer_size: 21\n",
      "k-mer countgraph sizes: [215053697, 215053673, 215053669, 215053667]\n",
      "outputting to ERX168346.dist\n",
      "consuming input, round 1 -- ../data/reads/ERX168346_1-trimmed.fq.gz\n",
      "Total number of unique k-mers: 4289811\n",
      "preparing hist from ../data/reads/ERX168346_1-trimmed.fq.gz...\n",
      "consuming input, round 2 -- ../data/reads/ERX168346_1-trimmed.fq.gz\n",
      "wrote to: ERX168346.dist\n"
     ]
    }
   ],
   "source": [
    "!abundance-dist-single.py -M 1e9 -k 21 -s ../data/reads/ERX168346_1-trimmed.fq.gz ERX168346.dist"
   ]
  },
  {
   "cell_type": "markdown",
   "metadata": {},
   "source": [
    "* plot the k-mer abundance against k-mer count:"
   ]
  },
  {
   "cell_type": "code",
   "execution_count": 1,
   "metadata": {},
   "outputs": [
    {
     "ename": "KeyError",
     "evalue": "'inline%'",
     "output_type": "error",
     "traceback": [
      "\u001b[0;31m---------------------------------------------------------------------------\u001b[0m",
      "\u001b[0;31mKeyError\u001b[0m                                  Traceback (most recent call last)",
      "\u001b[0;32m<ipython-input-1-5ee8554a3a15>\u001b[0m in \u001b[0;36m<module>\u001b[0;34m\u001b[0m\n\u001b[0;32m----> 1\u001b[0;31m \u001b[0mget_ipython\u001b[0m\u001b[0;34m(\u001b[0m\u001b[0;34m)\u001b[0m\u001b[0;34m.\u001b[0m\u001b[0mrun_line_magic\u001b[0m\u001b[0;34m(\u001b[0m\u001b[0;34m'matplotlib'\u001b[0m\u001b[0;34m,\u001b[0m \u001b[0;34m'inline%'\u001b[0m\u001b[0;34m)\u001b[0m\u001b[0;34m\u001b[0m\u001b[0m\n\u001b[0m\u001b[1;32m      2\u001b[0m \u001b[0;32mimport\u001b[0m \u001b[0mnumpy\u001b[0m\u001b[0;34m\u001b[0m\u001b[0m\n\u001b[1;32m      3\u001b[0m \u001b[0;32mfrom\u001b[0m \u001b[0mpylab\u001b[0m \u001b[0;32mimport\u001b[0m \u001b[0;34m*\u001b[0m\u001b[0;34m\u001b[0m\u001b[0m\n\u001b[1;32m      4\u001b[0m \u001b[0mdist1\u001b[0m \u001b[0;34m=\u001b[0m \u001b[0mnumpy\u001b[0m\u001b[0;34m.\u001b[0m\u001b[0mloadtxt\u001b[0m\u001b[0;34m(\u001b[0m\u001b[0;34m'ERX168346.dist'\u001b[0m\u001b[0;34m,\u001b[0m \u001b[0mskiprows\u001b[0m\u001b[0;34m=\u001b[0m\u001b[0;36m1\u001b[0m\u001b[0;34m,\u001b[0m \u001b[0mdelimiter\u001b[0m\u001b[0;34m=\u001b[0m\u001b[0;34m','\u001b[0m\u001b[0;34m)\u001b[0m\u001b[0;34m\u001b[0m\u001b[0m\n\u001b[1;32m      5\u001b[0m \u001b[0mplot\u001b[0m\u001b[0;34m(\u001b[0m\u001b[0mdist1\u001b[0m\u001b[0;34m[\u001b[0m\u001b[0;34m:\u001b[0m\u001b[0;34m,\u001b[0m\u001b[0;36m0\u001b[0m\u001b[0;34m]\u001b[0m\u001b[0;34m,\u001b[0m \u001b[0mdist1\u001b[0m\u001b[0;34m[\u001b[0m\u001b[0;34m:\u001b[0m\u001b[0;34m,\u001b[0m\u001b[0;36m1\u001b[0m\u001b[0;34m]\u001b[0m\u001b[0;34m)\u001b[0m\u001b[0;34m\u001b[0m\u001b[0m\n",
      "\u001b[0;32m/anaconda3/envs/genome-sketching/lib/python3.6/site-packages/IPython/core/interactiveshell.py\u001b[0m in \u001b[0;36mrun_line_magic\u001b[0;34m(self, magic_name, line, _stack_depth)\u001b[0m\n\u001b[1;32m   2305\u001b[0m                 \u001b[0mkwargs\u001b[0m\u001b[0;34m[\u001b[0m\u001b[0;34m'local_ns'\u001b[0m\u001b[0;34m]\u001b[0m \u001b[0;34m=\u001b[0m \u001b[0msys\u001b[0m\u001b[0;34m.\u001b[0m\u001b[0m_getframe\u001b[0m\u001b[0;34m(\u001b[0m\u001b[0mstack_depth\u001b[0m\u001b[0;34m)\u001b[0m\u001b[0;34m.\u001b[0m\u001b[0mf_locals\u001b[0m\u001b[0;34m\u001b[0m\u001b[0m\n\u001b[1;32m   2306\u001b[0m             \u001b[0;32mwith\u001b[0m \u001b[0mself\u001b[0m\u001b[0;34m.\u001b[0m\u001b[0mbuiltin_trap\u001b[0m\u001b[0;34m:\u001b[0m\u001b[0;34m\u001b[0m\u001b[0m\n\u001b[0;32m-> 2307\u001b[0;31m                 \u001b[0mresult\u001b[0m \u001b[0;34m=\u001b[0m \u001b[0mfn\u001b[0m\u001b[0;34m(\u001b[0m\u001b[0;34m*\u001b[0m\u001b[0margs\u001b[0m\u001b[0;34m,\u001b[0m \u001b[0;34m**\u001b[0m\u001b[0mkwargs\u001b[0m\u001b[0;34m)\u001b[0m\u001b[0;34m\u001b[0m\u001b[0m\n\u001b[0m\u001b[1;32m   2308\u001b[0m             \u001b[0;32mreturn\u001b[0m \u001b[0mresult\u001b[0m\u001b[0;34m\u001b[0m\u001b[0m\n\u001b[1;32m   2309\u001b[0m \u001b[0;34m\u001b[0m\u001b[0m\n",
      "\u001b[0;32m</anaconda3/envs/genome-sketching/lib/python3.6/site-packages/decorator.py:decorator-gen-108>\u001b[0m in \u001b[0;36mmatplotlib\u001b[0;34m(self, line)\u001b[0m\n",
      "\u001b[0;32m/anaconda3/envs/genome-sketching/lib/python3.6/site-packages/IPython/core/magic.py\u001b[0m in \u001b[0;36m<lambda>\u001b[0;34m(f, *a, **k)\u001b[0m\n\u001b[1;32m    185\u001b[0m     \u001b[0;31m# but it's overkill for just that one bit of state.\u001b[0m\u001b[0;34m\u001b[0m\u001b[0;34m\u001b[0m\u001b[0m\n\u001b[1;32m    186\u001b[0m     \u001b[0;32mdef\u001b[0m \u001b[0mmagic_deco\u001b[0m\u001b[0;34m(\u001b[0m\u001b[0marg\u001b[0m\u001b[0;34m)\u001b[0m\u001b[0;34m:\u001b[0m\u001b[0;34m\u001b[0m\u001b[0m\n\u001b[0;32m--> 187\u001b[0;31m         \u001b[0mcall\u001b[0m \u001b[0;34m=\u001b[0m \u001b[0;32mlambda\u001b[0m \u001b[0mf\u001b[0m\u001b[0;34m,\u001b[0m \u001b[0;34m*\u001b[0m\u001b[0ma\u001b[0m\u001b[0;34m,\u001b[0m \u001b[0;34m**\u001b[0m\u001b[0mk\u001b[0m\u001b[0;34m:\u001b[0m \u001b[0mf\u001b[0m\u001b[0;34m(\u001b[0m\u001b[0;34m*\u001b[0m\u001b[0ma\u001b[0m\u001b[0;34m,\u001b[0m \u001b[0;34m**\u001b[0m\u001b[0mk\u001b[0m\u001b[0;34m)\u001b[0m\u001b[0;34m\u001b[0m\u001b[0m\n\u001b[0m\u001b[1;32m    188\u001b[0m \u001b[0;34m\u001b[0m\u001b[0m\n\u001b[1;32m    189\u001b[0m         \u001b[0;32mif\u001b[0m \u001b[0mcallable\u001b[0m\u001b[0;34m(\u001b[0m\u001b[0marg\u001b[0m\u001b[0;34m)\u001b[0m\u001b[0;34m:\u001b[0m\u001b[0;34m\u001b[0m\u001b[0m\n",
      "\u001b[0;32m/anaconda3/envs/genome-sketching/lib/python3.6/site-packages/IPython/core/magics/pylab.py\u001b[0m in \u001b[0;36mmatplotlib\u001b[0;34m(self, line)\u001b[0m\n\u001b[1;32m     97\u001b[0m             \u001b[0mprint\u001b[0m\u001b[0;34m(\u001b[0m\u001b[0;34m\"Available matplotlib backends: %s\"\u001b[0m \u001b[0;34m%\u001b[0m \u001b[0mbackends_list\u001b[0m\u001b[0;34m)\u001b[0m\u001b[0;34m\u001b[0m\u001b[0m\n\u001b[1;32m     98\u001b[0m         \u001b[0;32melse\u001b[0m\u001b[0;34m:\u001b[0m\u001b[0;34m\u001b[0m\u001b[0m\n\u001b[0;32m---> 99\u001b[0;31m             \u001b[0mgui\u001b[0m\u001b[0;34m,\u001b[0m \u001b[0mbackend\u001b[0m \u001b[0;34m=\u001b[0m \u001b[0mself\u001b[0m\u001b[0;34m.\u001b[0m\u001b[0mshell\u001b[0m\u001b[0;34m.\u001b[0m\u001b[0menable_matplotlib\u001b[0m\u001b[0;34m(\u001b[0m\u001b[0margs\u001b[0m\u001b[0;34m.\u001b[0m\u001b[0mgui\u001b[0m\u001b[0;34m)\u001b[0m\u001b[0;34m\u001b[0m\u001b[0m\n\u001b[0m\u001b[1;32m    100\u001b[0m             \u001b[0mself\u001b[0m\u001b[0;34m.\u001b[0m\u001b[0m_show_matplotlib_backend\u001b[0m\u001b[0;34m(\u001b[0m\u001b[0margs\u001b[0m\u001b[0;34m.\u001b[0m\u001b[0mgui\u001b[0m\u001b[0;34m,\u001b[0m \u001b[0mbackend\u001b[0m\u001b[0;34m)\u001b[0m\u001b[0;34m\u001b[0m\u001b[0m\n\u001b[1;32m    101\u001b[0m \u001b[0;34m\u001b[0m\u001b[0m\n",
      "\u001b[0;32m/anaconda3/envs/genome-sketching/lib/python3.6/site-packages/IPython/core/interactiveshell.py\u001b[0m in \u001b[0;36menable_matplotlib\u001b[0;34m(self, gui)\u001b[0m\n\u001b[1;32m   3370\u001b[0m         \"\"\"\n\u001b[1;32m   3371\u001b[0m         \u001b[0;32mfrom\u001b[0m \u001b[0mIPython\u001b[0m\u001b[0;34m.\u001b[0m\u001b[0mcore\u001b[0m \u001b[0;32mimport\u001b[0m \u001b[0mpylabtools\u001b[0m \u001b[0;32mas\u001b[0m \u001b[0mpt\u001b[0m\u001b[0;34m\u001b[0m\u001b[0m\n\u001b[0;32m-> 3372\u001b[0;31m         \u001b[0mgui\u001b[0m\u001b[0;34m,\u001b[0m \u001b[0mbackend\u001b[0m \u001b[0;34m=\u001b[0m \u001b[0mpt\u001b[0m\u001b[0;34m.\u001b[0m\u001b[0mfind_gui_and_backend\u001b[0m\u001b[0;34m(\u001b[0m\u001b[0mgui\u001b[0m\u001b[0;34m,\u001b[0m \u001b[0mself\u001b[0m\u001b[0;34m.\u001b[0m\u001b[0mpylab_gui_select\u001b[0m\u001b[0;34m)\u001b[0m\u001b[0;34m\u001b[0m\u001b[0m\n\u001b[0m\u001b[1;32m   3373\u001b[0m \u001b[0;34m\u001b[0m\u001b[0m\n\u001b[1;32m   3374\u001b[0m         \u001b[0;32mif\u001b[0m \u001b[0mgui\u001b[0m \u001b[0;34m!=\u001b[0m \u001b[0;34m'inline'\u001b[0m\u001b[0;34m:\u001b[0m\u001b[0;34m\u001b[0m\u001b[0m\n",
      "\u001b[0;32m/anaconda3/envs/genome-sketching/lib/python3.6/site-packages/IPython/core/pylabtools.py\u001b[0m in \u001b[0;36mfind_gui_and_backend\u001b[0;34m(gui, gui_select)\u001b[0m\n\u001b[1;32m    278\u001b[0m     \u001b[0;32mif\u001b[0m \u001b[0mgui\u001b[0m \u001b[0;32mand\u001b[0m \u001b[0mgui\u001b[0m \u001b[0;34m!=\u001b[0m \u001b[0;34m'auto'\u001b[0m\u001b[0;34m:\u001b[0m\u001b[0;34m\u001b[0m\u001b[0m\n\u001b[1;32m    279\u001b[0m         \u001b[0;31m# select backend based on requested gui\u001b[0m\u001b[0;34m\u001b[0m\u001b[0;34m\u001b[0m\u001b[0m\n\u001b[0;32m--> 280\u001b[0;31m         \u001b[0mbackend\u001b[0m \u001b[0;34m=\u001b[0m \u001b[0mbackends\u001b[0m\u001b[0;34m[\u001b[0m\u001b[0mgui\u001b[0m\u001b[0;34m]\u001b[0m\u001b[0;34m\u001b[0m\u001b[0m\n\u001b[0m\u001b[1;32m    281\u001b[0m         \u001b[0;32mif\u001b[0m \u001b[0mgui\u001b[0m \u001b[0;34m==\u001b[0m \u001b[0;34m'agg'\u001b[0m\u001b[0;34m:\u001b[0m\u001b[0;34m\u001b[0m\u001b[0m\n\u001b[1;32m    282\u001b[0m             \u001b[0mgui\u001b[0m \u001b[0;34m=\u001b[0m \u001b[0;32mNone\u001b[0m\u001b[0;34m\u001b[0m\u001b[0m\n",
      "\u001b[0;31mKeyError\u001b[0m: 'inline%'"
     ]
    }
   ],
   "source": [
    "%matplotlib inline\n",
    "import numpy\n",
    "from pylab import *\n",
    "dist1 = numpy.loadtxt('ERX168346.dist', skiprows=1, delimiter=',')\n",
    "plot(dist1[:,0], dist1[:,1])\n",
    "axis(xmax=50)\n",
    "title('k-mer abundance histogram')\n",
    "xlabel('k-mer abundance')\n",
    "ylabel('N k-mers with that abundance')"
   ]
  },
  {
   "cell_type": "markdown",
   "metadata": {},
   "source": [
    "We can see a a lot unique k-mers in that plot. One reason to remove these is to reduce the amount of data we process in downstream analysis, which will reduce analysis time and take less memory (as there are fewer unique k-mers to hold in memory). That being said, it's not really necessary and removing them can have a negative impact on some analyses as we would be reducing coverage.\n",
    "\n",
    "So instead of removing them, let's first try to correct the sequence reads."
   ]
  },
  {
   "cell_type": "markdown",
   "metadata": {},
   "source": [
    "## Read error correction using Bloom filters\n",
    "\n",
    "For this, we can use [lighter](https://genomebiology.biomedcentral.com/articles/10.1186/s13059-014-0509-9). We need a bit of information first:\n",
    "\n",
    "* what size is the genome we have sequenced\n",
    "* how many reads do we have\n",
    "\n",
    "This information is used to calculate the sequencing coverage, this is then used to set the sampling fraction (alpha) so that it is inversely proportion to the depth of sequencing.\n",
    "\n",
    "We saw in the output of our earlier khmer command that we have 125643 read pairs (read length ~140bp) for ERX168346. We also know that the genome size of *E.cloacae* is 5.31Mb. So our genome coverage from this sample is approximately 7X (which isn't great, but we did aggressively trim the data as the quality was poor).\n",
    "\n",
    "We calculate our sampling fraction for each file using the equation from the lighter paper: 7/coverage.\n",
    "\n",
    "This means our sampling fraction is 2.13\n",
    "\n",
    "* now let's run lighter:"
   ]
  },
  {
   "cell_type": "code",
   "execution_count": 2,
   "metadata": {},
   "outputs": [
    {
     "name": "stdout",
     "output_type": "stream",
     "text": [
      "[2019-04-09 13:59:06] =============Start====================\n",
      "[2019-04-09 13:59:06] Bad quality threshold is \"5\"\n",
      "[2019-04-09 13:59:08] Finish sampling kmers\n",
      "[2019-04-09 13:59:08] Bloom filter A's false positive rate: 0.000730\n",
      "[2019-04-09 13:59:13] Finish storing trusted kmers\n",
      "[2019-04-09 13:59:17] Finish error correction\n",
      "Processed 125643 reads:\n",
      "\t115592 are error-free\n",
      "\tCorrected 4969 bases(0.494379 corrections for reads with errors)\n",
      "\tTrimmed 0 reads with average trimmed bases 0.000000\n",
      "\tDiscard 0 reads\n",
      "[2019-04-09 13:59:17] =============Start====================\n",
      "[2019-04-09 13:59:17] Bad quality threshold is \"5\"\n",
      "[2019-04-09 13:59:20] Finish sampling kmers\n",
      "[2019-04-09 13:59:20] Bloom filter A's false positive rate: 0.000728\n",
      "[2019-04-09 13:59:25] Finish storing trusted kmers\n",
      "[2019-04-09 13:59:28] Finish error correction\n",
      "Processed 125643 reads:\n",
      "\t115301 are error-free\n",
      "\tCorrected 5081 bases(0.491298 corrections for reads with errors)\n",
      "\tTrimmed 0 reads with average trimmed bases 0.000000\n",
      "\tDiscard 0 reads\n"
     ]
    }
   ],
   "source": [
    "!lighter -r ../data/reads/ERX168346_1-trimmed.fq.gz -k 17 5310000 2.13\n",
    "!lighter -r ../data/reads/ERX168346_2-trimmed.fq.gz -k 17 5310000 2.13"
   ]
  },
  {
   "cell_type": "markdown",
   "metadata": {},
   "source": [
    "> lighter needs a k-mer size, the genome size and the alpha. Alpha is optional, but if you don't include it lighter will do an extra pass of your data to calculate it for you.\n",
    "\n",
    "Lighter corrected around 5000 bases - great! Let's now do some low-abundance k-mer trimming.\n",
    "\n",
    "\n",
    "## K-mer trimming using Count-Min sketch\n",
    "\n",
    "Back to the Count-Min sketch and khmer...\n",
    "\n",
    "* perform k-mer frequency based trimming on the corrected reads from lighter:\n",
    "\n",
    "> this takes a little while"
   ]
  },
  {
   "cell_type": "code",
   "execution_count": 91,
   "metadata": {},
   "outputs": [
    {
     "name": "stdout",
     "output_type": "stream",
     "text": [
      "\n",
      "|| This is the script trim-low-abund.py in khmer.\n",
      "|| You are running khmer version 3.0.0a2\n",
      "|| You are also using screed version 1.0\n",
      "||\n",
      "|| If you use this script in a publication, please cite EACH of the following:\n",
      "||\n",
      "||   * MR Crusoe et al., 2015. http://dx.doi.org/10.12688/f1000research.6924.1\n",
      "||   * Q Zhang, S Awad, CT Brown, https://dx.doi.org/10.7287/peerj.preprints.890v1\n",
      "||\n",
      "|| Please see http://khmer.readthedocs.io/en/latest/citations.html for details.\n",
      "\n",
      "\n",
      "PARAMETERS:\n",
      " - kmer size =     32 \t\t(-k)\n",
      " - n tables =      4 \t\t(-N)\n",
      " - max tablesize = 2e+09 \t(-x)\n",
      "Estimated memory usage is 8.0 Gb (8e+09 bytes = 4 bytes x 2e+09 entries / 1 entries per byte)\n",
      "--------\n",
      "making countgraph\n",
      "created temporary directory ./tmpduxdykibkhmer;\n",
      "use -T to change location\n",
      "... ERX168346_1-trimmed.cor.fq.gz 10015 10107 1239533 83 9976\n",
      "... ERX168346_1-trimmed.cor.fq.gz 19413 20001 2446816 571 68473\n",
      "... ERX168346_1-trimmed.cor.fq.gz 28563 30006 3665336 1419 170335\n",
      "... ERX168346_1-trimmed.cor.fq.gz 37536 40015 4886299 2447 293567\n",
      "... ERX168346_1-trimmed.cor.fq.gz 46358 50003 6098976 3608 432762\n",
      "... ERX168346_1-trimmed.cor.fq.gz 55230 60006 7318232 4736 568116\n",
      "... ERX168346_1-trimmed.cor.fq.gz 64084 70003 8534131 5873 704911\n",
      "... ERX168346_1-trimmed.cor.fq.gz 72934 80027 9758355 7042 846548\n",
      "... ERX168346_1-trimmed.cor.fq.gz 81710 90003 10971866 8236 988838\n",
      "... ERX168346_1-trimmed.cor.fq.gz 90509 100002 12187080 9430 1132315\n",
      "... ERX168346_1-trimmed.cor.fq.gz 99346 110010 13406243 10597 1272748\n",
      "... ERX168346_1-trimmed.cor.fq.gz 108060 120004 14624685 11871 1425619\n",
      "ERX168346_1-trimmed.cor.fq.gz: kept aside 112958 of 125643 from first pass\n",
      "... ERX168346_2-trimmed.cor.fq.gz 121888 135661 16521477 13690 1643143\n",
      "... ERX168346_2-trimmed.cor.fq.gz 130537 145644 17724481 15018 1801605\n",
      "... ERX168346_2-trimmed.cor.fq.gz 139231 155649 18931259 16324 1957106\n",
      "... ERX168346_2-trimmed.cor.fq.gz 147823 165650 20138681 17721 2124167\n",
      "... ERX168346_2-trimmed.cor.fq.gz 156332 175646 21345438 19200 2300975\n",
      "... ERX168346_2-trimmed.cor.fq.gz 164901 185649 22551971 20617 2470430\n",
      "... ERX168346_2-trimmed.cor.fq.gz 173418 195646 23756732 22084 2645720\n",
      "... ERX168346_2-trimmed.cor.fq.gz 181851 205670 24965193 23656 2834548\n",
      "... ERX168346_2-trimmed.cor.fq.gz 190217 215646 26167188 25252 3023897\n",
      "... ERX168346_2-trimmed.cor.fq.gz 198511 225645 27373999 26940 3225904\n",
      "... ERX168346_2-trimmed.cor.fq.gz 206760 235653 28581367 28681 3433879\n",
      "... ERX168346_2-trimmed.cor.fq.gz 214835 245646 29788597 30572 3659395\n",
      "ERX168346_2-trimmed.cor.fq.gz: kept aside 106377 of 125643 from first pass\n",
      "second pass: looking at sequences kept aside in ./tmpduxdykibkhmer/ERX168346_1-trimmed.cor.fq.gz.pass2\n",
      "... x 2 125644 ./tmpduxdykibkhmer/ERX168346_1-trimmed.cor.fq.gz.pass2 219335 251287 30467935 31699 3793491\n",
      "... x 2 125645 ./tmpduxdykibkhmer/ERX168346_1-trimmed.cor.fq.gz.pass2 219335 251288 30468074 31700 3793620\n",
      "... x 2 125646 ./tmpduxdykibkhmer/ERX168346_1-trimmed.cor.fq.gz.pass2 219335 251289 30468177 31701 3793759\n",
      "... x 2 125647 ./tmpduxdykibkhmer/ERX168346_1-trimmed.cor.fq.gz.pass2 219335 251290 30468308 31702 3793862\n",
      "... x 2 125648 ./tmpduxdykibkhmer/ERX168346_1-trimmed.cor.fq.gz.pass2 219335 251291 30468426 31703 3793993\n",
      "... x 2 125649 ./tmpduxdykibkhmer/ERX168346_1-trimmed.cor.fq.gz.pass2 219335 251292 30468526 31704 3794111\n",
      "... x 2 125650 ./tmpduxdykibkhmer/ERX168346_1-trimmed.cor.fq.gz.pass2 219335 251293 30468666 31705 3794211\n",
      "... x 2 125651 ./tmpduxdykibkhmer/ERX168346_1-trimmed.cor.fq.gz.pass2 219335 251294 30468806 31706 3794351\n",
      "... x 2 125652 ./tmpduxdykibkhmer/ERX168346_1-trimmed.cor.fq.gz.pass2 219335 251295 30468945 31707 3794491\n",
      "... x 2 125653 ./tmpduxdykibkhmer/ERX168346_1-trimmed.cor.fq.gz.pass2 219335 251296 30469054 31708 3794630\n",
      "... x 2 125654 ./tmpduxdykibkhmer/ERX168346_1-trimmed.cor.fq.gz.pass2 219335 251297 30469177 31709 3794739\n",
      "... x 2 125655 ./tmpduxdykibkhmer/ERX168346_1-trimmed.cor.fq.gz.pass2 219335 251298 30469317 31710 3794862\n",
      "... x 2 130001 ./tmpduxdykibkhmer/ERX168346_1-trimmed.cor.fq.gz.pass2 219335 255644 31005462 36048 4328870\n",
      "... x 2 140001 ./tmpduxdykibkhmer/ERX168346_1-trimmed.cor.fq.gz.pass2 219335 265644 32225348 46025 5544925\n",
      "... x 2 150001 ./tmpduxdykibkhmer/ERX168346_1-trimmed.cor.fq.gz.pass2 219335 275644 33446261 55992 6760657\n",
      "... x 2 160001 ./tmpduxdykibkhmer/ERX168346_1-trimmed.cor.fq.gz.pass2 219335 285644 34664443 65972 7975076\n",
      "... x 2 170001 ./tmpduxdykibkhmer/ERX168346_1-trimmed.cor.fq.gz.pass2 219335 295644 35885313 75942 9190914\n",
      "... x 2 180001 ./tmpduxdykibkhmer/ERX168346_1-trimmed.cor.fq.gz.pass2 219335 305644 37103612 85926 10405601\n",
      "... x 2 190001 ./tmpduxdykibkhmer/ERX168346_1-trimmed.cor.fq.gz.pass2 219335 315644 38321755 95904 11619513\n",
      "... x 2 200001 ./tmpduxdykibkhmer/ERX168346_1-trimmed.cor.fq.gz.pass2 219335 325644 39543382 105883 12837421\n",
      "... x 2 210001 ./tmpduxdykibkhmer/ERX168346_1-trimmed.cor.fq.gz.pass2 219335 335644 40761879 115856 14051510\n",
      "... x 2 220001 ./tmpduxdykibkhmer/ERX168346_1-trimmed.cor.fq.gz.pass2 219335 345644 41979898 125832 15265434\n",
      "... x 2 230001 ./tmpduxdykibkhmer/ERX168346_1-trimmed.cor.fq.gz.pass2 219335 355644 43200243 135803 16480900\n",
      "removing ./tmpduxdykibkhmer/ERX168346_1-trimmed.cor.fq.gz.pass2\n",
      "second pass: looking at sequences kept aside in ./tmpduxdykibkhmer/ERX168346_2-trimmed.cor.fq.gz.pass2\n",
      "... x 2 238602 ./tmpduxdykibkhmer/ERX168346_2-trimmed.cor.fq.gz.pass2 219335 364245 44249193 144377 17525252\n",
      "... x 2 238603 ./tmpduxdykibkhmer/ERX168346_2-trimmed.cor.fq.gz.pass2 219335 364246 44249324 144378 17525366\n",
      "... x 2 238604 ./tmpduxdykibkhmer/ERX168346_2-trimmed.cor.fq.gz.pass2 219335 364247 44249457 144379 17525497\n",
      "... x 2 238605 ./tmpduxdykibkhmer/ERX168346_2-trimmed.cor.fq.gz.pass2 219335 364248 44249580 144380 17525630\n",
      "... x 2 238606 ./tmpduxdykibkhmer/ERX168346_2-trimmed.cor.fq.gz.pass2 219335 364249 44249703 144381 17525753\n",
      "... x 2 238607 ./tmpduxdykibkhmer/ERX168346_2-trimmed.cor.fq.gz.pass2 219335 364250 44249832 144382 17525876\n",
      "... x 2 238608 ./tmpduxdykibkhmer/ERX168346_2-trimmed.cor.fq.gz.pass2 219335 364251 44249941 144383 17526005\n",
      "... x 2 238609 ./tmpduxdykibkhmer/ERX168346_2-trimmed.cor.fq.gz.pass2 219335 364252 44250070 144384 17526114\n",
      "... x 2 238610 ./tmpduxdykibkhmer/ERX168346_2-trimmed.cor.fq.gz.pass2 219335 364253 44250208 144385 17526243\n",
      "... x 2 238611 ./tmpduxdykibkhmer/ERX168346_2-trimmed.cor.fq.gz.pass2 219335 364254 44250330 144386 17526381\n",
      "... x 2 238612 ./tmpduxdykibkhmer/ERX168346_2-trimmed.cor.fq.gz.pass2 219335 364255 44250444 144387 17526503\n",
      "... x 2 238613 ./tmpduxdykibkhmer/ERX168346_2-trimmed.cor.fq.gz.pass2 219335 364256 44250575 144388 17526617\n",
      "... x 2 238614 ./tmpduxdykibkhmer/ERX168346_2-trimmed.cor.fq.gz.pass2 219335 364257 44250706 144389 17526748\n",
      "... x 2 238615 ./tmpduxdykibkhmer/ERX168346_2-trimmed.cor.fq.gz.pass2 219335 364258 44250819 144390 17526879\n",
      "... x 2 238616 ./tmpduxdykibkhmer/ERX168346_2-trimmed.cor.fq.gz.pass2 219335 364259 44250919 144391 17526992\n",
      "... x 2 238617 ./tmpduxdykibkhmer/ERX168346_2-trimmed.cor.fq.gz.pass2 219335 364260 44251027 144392 17527092\n",
      "... x 2 238618 ./tmpduxdykibkhmer/ERX168346_2-trimmed.cor.fq.gz.pass2 219335 364261 44251160 144393 17527200\n",
      "... x 2 238619 ./tmpduxdykibkhmer/ERX168346_2-trimmed.cor.fq.gz.pass2 219335 364262 44251291 144394 17527333\n",
      "... x 2 238620 ./tmpduxdykibkhmer/ERX168346_2-trimmed.cor.fq.gz.pass2 219335 364263 44251396 144395 17527464\n",
      "... x 2 238621 ./tmpduxdykibkhmer/ERX168346_2-trimmed.cor.fq.gz.pass2 219335 364264 44251508 144396 17527569\n",
      "... x 2 238622 ./tmpduxdykibkhmer/ERX168346_2-trimmed.cor.fq.gz.pass2 219335 364265 44251641 144397 17527681\n",
      "... x 2 238623 ./tmpduxdykibkhmer/ERX168346_2-trimmed.cor.fq.gz.pass2 219335 364266 44251751 144398 17527814\n",
      "... x 2 238624 ./tmpduxdykibkhmer/ERX168346_2-trimmed.cor.fq.gz.pass2 219335 364267 44251861 144399 17527924\n",
      "... x 2 240001 ./tmpduxdykibkhmer/ERX168346_2-trimmed.cor.fq.gz.pass2 219335 365644 44417665 145772 17692862\n",
      "... x 2 250001 ./tmpduxdykibkhmer/ERX168346_2-trimmed.cor.fq.gz.pass2 219335 375644 45626636 155741 18896882\n",
      "... x 2 260001 ./tmpduxdykibkhmer/ERX168346_2-trimmed.cor.fq.gz.pass2 219335 385644 46833338 165719 20100004\n",
      "... x 2 270001 ./tmpduxdykibkhmer/ERX168346_2-trimmed.cor.fq.gz.pass2 219335 395644 48039882 175702 21303611\n"
     ]
    },
    {
     "name": "stdout",
     "output_type": "stream",
     "text": [
      "... x 2 280001 ./tmpduxdykibkhmer/ERX168346_2-trimmed.cor.fq.gz.pass2 219335 405644 49249013 185690 22510558\n",
      "... x 2 290001 ./tmpduxdykibkhmer/ERX168346_2-trimmed.cor.fq.gz.pass2 219335 415644 50455849 195670 23713901\n",
      "... x 2 300001 ./tmpduxdykibkhmer/ERX168346_2-trimmed.cor.fq.gz.pass2 219335 425644 51661712 205652 24916749\n",
      "... x 2 310001 ./tmpduxdykibkhmer/ERX168346_2-trimmed.cor.fq.gz.pass2 219335 435644 52867550 215635 26119321\n",
      "... x 2 320001 ./tmpduxdykibkhmer/ERX168346_2-trimmed.cor.fq.gz.pass2 219335 445644 54075187 225621 27324426\n",
      "... x 2 330001 ./tmpduxdykibkhmer/ERX168346_2-trimmed.cor.fq.gz.pass2 219335 455644 55283125 235599 28528777\n",
      "... x 2 340001 ./tmpduxdykibkhmer/ERX168346_2-trimmed.cor.fq.gz.pass2 219335 465644 56492056 245586 29735673\n",
      "removing ./tmpduxdykibkhmer/ERX168346_2-trimmed.cor.fq.gz.pass2\n",
      "removing temp directory & contents (./tmpduxdykibkhmer)\n",
      "read 251286 reads, 30467806 bp\n",
      "wrote 250557 reads, 30334920 bp\n",
      "looked at 219335 reads twice (1.87 passes)\n",
      "removed 729 reads and trimmed 1953 reads (1.07%)\n",
      "trimmed or removed 0.44%% of bases (132886 total)\n",
      "251286 reads were high coverage (100.00%);\n",
      "skipped 0 reads/0 bases because of low coverage\n",
      "fp rate estimated to be 0.000\n",
      "output in ERX168346.corrected.trimmed.fq\n"
     ]
    }
   ],
   "source": [
    "!trim-low-abund.py -V -M 8e9 -C 3 -Z 10 -o ERX168346.corrected.trimmed.fq ERX168346_1-trimmed.cor.fq.gz ERX168346_2-trimmed.cor.fq.gz"
   ]
  },
  {
   "cell_type": "markdown",
   "metadata": {},
   "source": [
    "* now, plot the k-mer spectrum again now the reads have been corrected and k-mer trimmed:"
   ]
  },
  {
   "cell_type": "code",
   "execution_count": 92,
   "metadata": {},
   "outputs": [
    {
     "name": "stdout",
     "output_type": "stream",
     "text": [
      "\n",
      "|| This is the script abundance-dist-single.py in khmer.\n",
      "|| You are running khmer version 3.0.0a2\n",
      "|| You are also using screed version 1.0\n",
      "||\n",
      "|| If you use this script in a publication, please cite EACH of the following:\n",
      "||\n",
      "||   * MR Crusoe et al., 2015. http://dx.doi.org/10.12688/f1000research.6924.1\n",
      "||   * Q Zhang et al., http://dx.doi.org/10.1371/journal.pone.0101271\n",
      "||   * A. Döring et al. http://dx.doi.org:80/10.1186/1471-2105-9-11\n",
      "||\n",
      "|| Please see http://khmer.readthedocs.io/en/latest/citations.html for details.\n",
      "\n",
      "\n",
      "PARAMETERS:\n",
      " - kmer size =     21 \t\t(-k)\n",
      " - n tables =      4 \t\t(-N)\n",
      " - max tablesize = 2.5e+08 \t(-x)\n",
      "Estimated memory usage is 1.0 Gb (1e+09 bytes = 4 bytes x 2.5e+08 entries / 1 entries per byte)\n",
      "--------\n",
      "making countgraph\n",
      "building k-mer tracking graph\n",
      "kmer_size: 21\n",
      "k-mer countgraph sizes: [215053697, 215053673, 215053669, 215053667]\n",
      "outputting to ERX168346.dist\n",
      "consuming input, round 1 -- ERX168346.corrected.trimmed.fq\n",
      "Total number of unique k-mers: 4628648\n",
      "preparing hist from ERX168346.corrected.trimmed.fq...\n",
      "consuming input, round 2 -- ERX168346.corrected.trimmed.fq\n",
      "wrote to: ERX168346.dist\n"
     ]
    },
    {
     "data": {
      "text/plain": [
       "Text(0, 0.5, 'N k-mers with that abundance')"
      ]
     },
     "execution_count": 92,
     "metadata": {},
     "output_type": "execute_result"
    },
    {
     "data": {
      "image/png": "[encoded data removed]",
      "text/plain": [
       "<Figure size 432x288 with 1 Axes>"
      ]
     },
     "metadata": {
      "needs_background": "light"
     },
     "output_type": "display_data"
    }
   ],
   "source": [
    "!abundance-dist-single.py -M 1e9 -k 21 -s ERX168346.corrected.trimmed.fq ERX168346.dist\n",
    "\n",
    "dist1 = numpy.loadtxt('ERX168346.dist', skiprows=1, delimiter=',')\n",
    "plot(dist1[:,0], dist1[:,1])\n",
    "axis(xmax=50)\n",
    "title('k-mer abundance histogram')\n",
    "xlabel('k-mer abundance')\n",
    "ylabel('N k-mers with that abundance')"
   ]
  },
  {
   "cell_type": "markdown",
   "metadata": {},
   "source": [
    "So we've managed to reduce the number of low abundance k-mers in our sample using sketching.\n",
    "\n",
    "* just to finish up, let's see if our QC has improved our sketch similarity between the sample and the reference genome:"
   ]
  },
  {
   "cell_type": "code",
   "execution_count": 93,
   "metadata": {},
   "outputs": [
    {
     "name": "stdout",
     "output_type": "stream",
     "text": [
      "\u001b[K== This is sourmash version 2.0.0. ==\n",
      "\u001b[K== Please cite Brown and Irber (2016), doi:10.21105/joss.00027. ==\n",
      "\n",
      "\u001b[Ksetting num_hashes to 0 because --scaled is set\n",
      "\u001b[Kcomputing signatures for files: ERX168346.corrected.trimmed.fq\n",
      "\u001b[KComputing signature for ksizes: [31]\n",
      "\u001b[KComputing only nucleotide (and not protein) signatures.\n",
      "\u001b[KComputing a total of 1 signature(s).\n",
      "\u001b[K... reading sequences from ERX168346.corrected.trimmed.fq\n",
      "\u001b[Kcalculated 1 signatures for 250557 sequences in ERX168346.corrected.trimmed.fq\n",
      "\u001b[Ksaved 1 signature(s). Note: signature license is CC0.\n",
      "\u001b[K== This is sourmash version 2.0.0. ==\n",
      "\u001b[K== Please cite Brown and Irber (2016), doi:10.21105/joss.00027. ==\n",
      "\n",
      "\u001b[Kloaded query: ERX168346.corrected.trimmed.fq... (k=31, DNA)\n",
      "\u001b[Kloaded 1 databases.                                                            \n",
      "\n",
      "\n",
      "overlap     p_query p_match\n",
      "---------   ------- -------\n",
      "4.4 Mbp       97.8%   91.7%    FKBP01000001.1 Enterobacter cloacae s...\n",
      "\u001b[Kfound less than 10.0 kbp in common. => exiting\n",
      "\n",
      "found 1 matches total;\n",
      "the recovered matches hit 97.8% of the query\n",
      "\n"
     ]
    }
   ],
   "source": [
    "# recompute the sketch for our sample, this time using the QC'd reads\n",
    "!sourmash compute --scaled 1000 -k 31 ERX168346.corrected.trimmed.fq --o ERX168346.sketch\n",
    "\n",
    "# compare the sketch against the reference genomes\n",
    "!sourmash gather -k 31 ERX168346.sketch genbank-k31.lca.json.gz"
   ]
  },
  {
   "cell_type": "markdown",
   "metadata": {},
   "source": [
    "Great - we now have increased the amount of query matching the reference. In other words, the similarity between our sample and the reference genome has increased!"
   ]
  },
  {
   "cell_type": "markdown",
   "metadata": {},
   "source": [
    "***\n",
    "\n",
    "Let's move on to the next stage of the workflow: [resistome profiling](r4.3.Resistome-profiling.ipynb)"
   ]
  },
  {
   "cell_type": "code",
   "execution_count": null,
   "metadata": {},
   "outputs": [],
   "source": []
  }
 ],
 "metadata": {
  "kernelspec": {
   "display_name": "Python [conda env:genome-sketching] *",
   "language": "python",
   "name": "conda-env-genome-sketching-py"
  },
  "language_info": {
   "codemirror_mode": {
    "name": "ipython",
    "version": 3
   },
   "file_extension": ".py",
   "mimetype": "text/x-python",
   "name": "python",
   "nbconvert_exporter": "python",
   "pygments_lexer": "ipython3",
   "version": "3.6.5"
  }
 },
 "nbformat": 4,
 "nbformat_minor": 2
}
